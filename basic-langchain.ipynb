{
 "cells": [
  {
   "cell_type": "code",
   "execution_count": 7,
   "metadata": {},
   "outputs": [],
   "source": [
    "import { load } from \"dotenv\";\n",
    "const env = await load();\n",
    "\n",
    "const process = {\n",
    "    env\n",
    "}"
   ]
  },
  {
   "cell_type": "code",
   "execution_count": 8,
   "metadata": {},
   "outputs": [
    {
     "ename": "Error",
     "evalue": "401 status code (no body)",
     "output_type": "error",
     "traceback": [
      "Stack trace:",
      "Error: 401 status code (no body)",
      "    at Function.generate (file:///Users/dfl/Library/Caches/deno/npm/registry.npmmirror.com/openai/4.29.2/error.mjs:43:20)",
      "    at OpenAI.makeStatusError (file:///Users/dfl/Library/Caches/deno/npm/registry.npmmirror.com/openai/4.29.2/core.mjs:256:25)",
      "    at OpenAI.makeRequest (file:///Users/dfl/Library/Caches/deno/npm/registry.npmmirror.com/openai/4.29.2/core.mjs:299:30)",
      "    at eventLoopTick (ext:core/01_core.js:168:7)",
      "    at async file:///Users/dfl/Library/Caches/deno/npm/registry.npmmirror.com/@langchain/openai/0.0.22/dist/chat_models.js:668:29",
      "    at async RetryOperation._fn (file:///Users/dfl/Library/Caches/deno/npm/registry.npmmirror.com/p-retry/4.6.2/index.js:50:12)"
     ]
    }
   ],
   "source": [
    "import { ChatOpenAI } from \"@langchain/openai\";\n",
    "import { HumanMessage } from \"@langchain/core/messages\";\n",
    "\n",
    "const model = new ChatOpenAI();\n",
    "\n",
    "const response = await model.invoke([\n",
    "    new HumanMessage(\"Tell me a joke\")\n",
    "]);\n",
    "console.log(response.content);\n",
    "\n",
    "\n"
   ]
  },
  {
   "cell_type": "code",
   "execution_count": null,
   "metadata": {},
   "outputs": [],
   "source": [
    "import { ChatOpenAI } from \"@langchain/openai\";\n",
    "import { HumanMessage } from \"@langchain/core/messages\";\n",
    "import { StringOutputParser } from \"@langchain/core/output_parsers\";\n",
    "\n",
    "const chatModel = new ChatOpenAI();\n",
    "const outputPrase = new StringOutputParser();\n",
    "\n",
    "const simpleChain = chatModel.pipe(outputPrase)\n",
    "\n",
    "await simpleChain.invoke([\n",
    "    new HumanMessage(\"Tell me a joke\")\n",
    "])"
   ]
  },
  {
   "cell_type": "code",
   "execution_count": null,
   "metadata": {},
   "outputs": [],
   "source": [
    "await simpleChain.batch([\n",
    "    [ new HumanMessage(\"Tell me a joke\") ],\n",
    "    [ new HumanMessage(\"Hi, Who are you?\") ],\n",
    "])"
   ]
  },
  {
   "cell_type": "code",
   "execution_count": null,
   "metadata": {},
   "outputs": [],
   "source": [
    "const stream = await simpleChain.stream([\n",
    "     new HumanMessage(\"Tell me a joke\")\n",
    "])\n",
    "\n",
    "for await (const chunk of stream){\n",
    "    console.log(chunk)\n",
    "}"
   ]
  },
  {
   "cell_type": "code",
   "execution_count": null,
   "metadata": {},
   "outputs": [],
   "source": [
    "const stream = await simpleChain.streamLog([\n",
    "     new HumanMessage(\"Tell me a joke\")\n",
    "])\n",
    "\n",
    "for await (const chunk of stream){\n",
    "    console.log(chunk)\n",
    "}"
   ]
  },
  {
   "cell_type": "code",
   "execution_count": null,
   "metadata": {},
   "outputs": [],
   "source": [
    "import { ChatOpenAI } from \"@langchain/openai\";\n",
    "\n",
    "const fakeLLM = new ChatOpenAI({\n",
    "    azureOpenAIApiKey: \"123\",\n",
    "    maxRetries: 0,\n",
    "});\n",
    "\n",
    "await fakeLLM.invoke(\"你好\")\n",
    "\n",
    "const realLLM = new ChatOpenAI()\n",
    "const llmWithFallback = fakeLLM.withFallbacks({\n",
    "    fallbacks: [realLLM]\n",
    "})\n",
    "\n",
    "await llmWithFallback.invoke(\"你好\")\n"
   ]
  }
 ],
 "metadata": {
  "kernelspec": {
   "display_name": "Deno",
   "language": "typescript",
   "name": "deno"
  },
  "language_info": {
   "codemirror_mode": "typescript",
   "file_extension": ".ts",
   "mimetype": "text/x.typescript",
   "name": "typescript",
   "nbconvert_exporter": "script",
   "pygments_lexer": "typescript",
   "version": "5.5.2"
  }
 },
 "nbformat": 4,
 "nbformat_minor": 4
}
