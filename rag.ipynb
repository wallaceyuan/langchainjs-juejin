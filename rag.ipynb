{
 "cells": [
  {
   "cell_type": "code",
   "execution_count": 3,
   "metadata": {},
   "outputs": [],
   "source": [
    "import { load } from \"dotenv\";\n",
    "const env = await load();\n",
    "\n",
    "const process = {\n",
    "    env\n",
    "}"
   ]
  },
  {
   "cell_type": "code",
   "execution_count": 4,
   "metadata": {},
   "outputs": [],
   "source": [
    "import { TextLoader } from \"langchain/document_loaders/fs/text\";\n",
    "const loader = new TextLoader(\"data/qiu.txt\");\n",
    "const docs = await loader.load();"
   ]
  },
  {
   "cell_type": "code",
   "execution_count": 5,
   "metadata": {},
   "outputs": [],
   "source": [
    "import { RecursiveCharacterTextSplitter } from \"langchain/text_splitter\";\n",
    "\n",
    "const splitter = new RecursiveCharacterTextSplitter({\n",
    "    chunkSize: 500,\n",
    "    chunkOverlap: 100,\n",
    "  });\n",
    "\n",
    "const splitDocs = await splitter.splitDocuments(docs);\n"
   ]
  },
  {
   "cell_type": "code",
   "execution_count": 6,
   "metadata": {},
   "outputs": [
    {
     "name": "stdout",
     "output_type": "stream",
     "text": [
      "Document {\n",
      "  pageContent: \"序曲\\n\" +\n",
      "    \"　　今天是我的生日，直到晚上爸爸妈妈点上了生日蛋糕的蜡烛，我们三个围着十四个小火苗坐下来，我才想起这事。\\n\" +\n",
      "    \"　　这是个雷雨之夜，整个宇宙似乎是由密集的闪电和我们的小屋组成。当那蓝色的电光闪起时，窗外的雨珠在一瞬间看得清清楚楚，那雨珠似乎凝固了，像密密地挂在天地间的一串串晶莹的水晶。这时我的脑海中就有一个闪念：世界要是那样的也很有意思，你每天一出门，就在那水晶的密帘中走路，它们在你周围发出丁零丁零的响声，只是，这样玲珑剔透的世界，如何经得住那暴烈的雷电呢……世界在我的眼中总和在别人眼中不一样，我总是努力使世界变形，这是我长这么大对自己唯一的认识。\\n\" +\n",
      "    \"　　暴雨是从傍晚开始的，自那以后闪电和雷声越来越密，开始，每当一道闪电过后，我脑海中一边回忆着刚才窗外那转瞬即逝的水晶世界，一边绷紧头皮等待着那一声炸雷，但现在，闪电太密集了，我已分不出哪声雷属于哪个闪电了。\",\n",
      "  metadata: { source: \"data/qiu.txt\", loc: { lines: { from: 25, to: 28 } } }\n",
      "}\n"
     ]
    }
   ],
   "source": [
    "console.log(splitDocs[4])"
   ]
  },
  {
   "cell_type": "code",
   "execution_count": 7,
   "metadata": {},
   "outputs": [
    {
     "name": "stdout",
     "output_type": "stream",
     "text": [
      "序曲\n",
      "　　今天是我的生日，直到晚上爸爸妈妈点上了生日蛋糕的蜡烛，我们三个围着十四个小火苗坐下来，我才想起这事。\n",
      "　　这是个雷雨之夜，整个宇宙似乎是由密集的闪电和我们的小屋组成。当那蓝色的电光闪起时，窗外的雨珠在一瞬间看得清清楚楚，那雨珠似乎凝固了，像密密地挂在天地间的一串串晶莹的水晶。这时我的脑海中就有一个闪念：世界要是那样的也很有意思，你每天一出门，就在那水晶的密帘中走路，它们在你周围发出丁零丁零的响声，只是，这样玲珑剔透的世界，如何经得住那暴烈的雷电呢……世界在我的眼中总和在别人眼中不一样，我总是努力使世界变形，这是我长这么大对自己唯一的认识。\n",
      "　　暴雨是从傍晚开始的，自那以后闪电和雷声越来越密，开始，每当一道闪电过后，我脑海中一边回忆着刚才窗外那转瞬即逝的水晶世界，一边绷紧头皮等待着那一声炸雷，但现在，闪电太密集了，我已分不出哪声雷属于哪个闪电了。\n"
     ]
    }
   ],
   "source": [
    "console.log(splitDocs[4].pageContent)"
   ]
  },
  {
   "cell_type": "code",
   "execution_count": 8,
   "metadata": {},
   "outputs": [],
   "source": [
    "import { OpenAIEmbeddings } from \"@langchain/openai\";\n",
    "\n",
    "\n",
    "const embeddings = new OpenAIEmbeddings();"
   ]
  },
  {
   "cell_type": "code",
   "execution_count": 9,
   "metadata": {},
   "outputs": [],
   "source": [
    "import { MemoryVectorStore } from \"langchain/vectorstores/memory\";\n",
    "\n",
    "const vectorstore = new MemoryVectorStore(embeddings);\n",
    "await vectorstore.addDocuments(splitDocs);"
   ]
  },
  {
   "cell_type": "code",
   "execution_count": 10,
   "metadata": {},
   "outputs": [],
   "source": [
    "const retriever = vectorstore.asRetriever(2)"
   ]
  },
  {
   "cell_type": "code",
   "execution_count": 11,
   "metadata": {},
   "outputs": [],
   "source": [
    "const res = await retriever.invoke(\"原文中，谁提出了宏原子的假设？并详细介绍给我宏原子假设的理论\")"
   ]
  },
  {
   "cell_type": "code",
   "execution_count": 12,
   "metadata": {},
   "outputs": [
    {
     "data": {
      "text/plain": [
       "[\n",
       "  Document {\n",
       "    pageContent: \u001b[32m\"“后一个比喻好奇怪。”\\n\"\u001b[39m +\n",
       "      \u001b[32m\"　　“因为这根弦已经是组成宏物质的最小单位，它是不可能被剪断的。”\\n\"\u001b[39m +\n",
       "      \u001b[32m\"　　在回去的路上，林云对丁仪说：“还有一个问题：你已经是国内理论物理的顶峰人物，很难相信几十年前另一个研究球状闪电的人碰巧也是。张彬对自己爱人的评价肯定有主观因素，郑敏真的有能力做出那样的发现？”\\n\"\u001b[39m +\n",
       "      \u001b[32m\"　　“如果人类生活在一个没有摩擦力的世界，牛顿三定律可能会在更早的时候由更普通的人来发现。当你本身已经成为一个量子态的宏粒子，理解那个世界自然比我们要容易得多。”\\n\"\u001b[39m +\n",
       "      \u001b[32m\"　　于是，基地开始了捕获宏原子核的工作。\\n\"\u001b[39m +\n",
       "      \u001b[32m\"　　首先，用空泡光学探测系统精确观测宏电子在空间中的自由运行状态，现在知道，宏电子或它被激发后形成的球状闪电那轨迹复杂的飘行，实际上是一种不断的量子跃迁，但在我们的视觉中它的运行是连续的。运用张彬墓碑上出现的那个伟大的数学模型，通过对这种跃迁运动各种参数的复杂计算，就能够确定宏原子核的位置，如果这个宏电子确实是属于某个宏原子的话。\"\u001b[39m,\n",
       "    metadata: {\n",
       "      source: \u001b[32m\"data/qiu.txt\"\u001b[39m,\n",
       "      loc: { lines: { from: \u001b[33m2219\u001b[39m, to: \u001b[33m2224\u001b[39m } }\n",
       "    }\n",
       "  },\n",
       "  Document {\n",
       "    pageContent: \u001b[32m\"“那么，像刚才说的，是否存在宏质子和宏中子呢？”\\n\"\u001b[39m +\n",
       "      \u001b[32m\"　　“应该存在，不过由于它们不能被激发，我们很难发现它们。”\\n\"\u001b[39m +\n",
       "      \u001b[32m\"　　“丁教授，你的梦实现了。”林云说，除了丁仪和我，别的人还不太明白她这话的意思。\\n\"\u001b[39m +\n",
       "      \u001b[32m\"　　“是啊是啊，真有西瓜这么大的基本粒子摆上物理学家的桌面了，下一步我们肯定要研究它们的内部结构，那也是由弯曲的空间构成的结构，虽然也很难，但我相信比研究微观粒子的结构不知要容易多少倍。”\\n\"\u001b[39m +\n",
       "      \u001b[32m\"　　“那也存在宏原子了？三种宏粒子应该是能够组成原子的啊！”\\n\"\u001b[39m +\n",
       "      \u001b[32m\"　　“是的，应该有宏原子。”\\n\"\u001b[39m +\n",
       "      \u001b[32m\"　　“我们所捕获到的那个空泡，哦，那个宏电子，是自由电子呢，还是一个宏原子中的电子？如果是后者，那这个宏原子的原子核在哪里呢？”\\n\"\u001b[39m +\n",
       "      \u001b[32m\"　　“呵呵，您问住我了。不过，原子中的空间很大，如果一个原子有一个剧场大厅那么大，原子核只是大厅中央的一个核桃大小，所以，如果这个宏电子真的属于一个宏原子，那它的原子核距离我们是相当远的。”\\n\"\u001b[39m +\n",
       "      \u001b[32m\"　　“天啊，还有一个大问题：如果存在宏原子，那一定有宏物质，也有宏世界了？”\\n\"\u001b[39m +\n",
       "      \u001b[32m\"　　“我们已经在进行宏伟的哲学思考了。”丁仪向提问者微笑着说。\"\u001b[39m,\n",
       "    metadata: {\n",
       "      source: \u001b[32m\"data/qiu.txt\"\u001b[39m,\n",
       "      loc: { lines: { from: \u001b[33m1465\u001b[39m, to: \u001b[33m1474\u001b[39m } }\n",
       "    }\n",
       "  }\n",
       "]"
      ]
     },
     "execution_count": 12,
     "metadata": {},
     "output_type": "execute_result"
    }
   ],
   "source": [
    "res"
   ]
  },
  {
   "cell_type": "code",
   "execution_count": 13,
   "metadata": {},
   "outputs": [],
   "source": [
    "import { RunnableSequence } from \"@langchain/core/runnables\";\n",
    "import { Document } from \"@langchain/core/documents\";\n",
    "\n",
    "const convertDocsToString = (documents: Document[]): string => {\n",
    "     return documents.map((document) => document.pageContent).join(\"\\n\")\n",
    "    }\n",
    "const contextRetriverChain = RunnableSequence.from([\n",
    "    (input) => input.question,\n",
    "    retriever,\n",
    "    convertDocsToString\n",
    "])"
   ]
  },
  {
   "cell_type": "code",
   "execution_count": 14,
   "metadata": {},
   "outputs": [
    {
     "name": "stdout",
     "output_type": "stream",
     "text": [
      "“后一个比喻好奇怪。”\n",
      "　　“因为这根弦已经是组成宏物质的最小单位，它是不可能被剪断的。”\n",
      "　　在回去的路上，林云对丁仪说：“还有一个问题：你已经是国内理论物理的顶峰人物，很难相信几十年前另一个研究球状闪电的人碰巧也是。张彬对自己爱人的评价肯定有主观因素，郑敏真的有能力做出那样的发现？”\n",
      "　　“如果人类生活在一个没有摩擦力的世界，牛顿三定律可能会在更早的时候由更普通的人来发现。当你本身已经成为一个量子态的宏粒子，理解那个世界自然比我们要容易得多。”\n",
      "　　于是，基地开始了捕获宏原子核的工作。\n",
      "　　首先，用空泡光学探测系统精确观测宏电子在空间中的自由运行状态，现在知道，宏电子或它被激发后形成的球状闪电那轨迹复杂的飘行，实际上是一种不断的量子跃迁，但在我们的视觉中它的运行是连续的。运用张彬墓碑上出现的那个伟大的数学模型，通过对这种跃迁运动各种参数的复杂计算，就能够确定宏原子核的位置，如果这个宏电子确实是属于某个宏原子的话。\n",
      "“那么，像刚才说的，是否存在宏质子和宏中子呢？”\n",
      "　　“应该存在，不过由于它们不能被激发，我们很难发现它们。”\n",
      "　　“丁教授，你的梦实现了。”林云说，除了丁仪和我，别的人还不太明白她这话的意思。\n",
      "　　“是啊是啊，真有西瓜这么大的基本粒子摆上物理学家的桌面了，下一步我们肯定要研究它们的内部结构，那也是由弯曲的空间构成的结构，虽然也很难，但我相信比研究微观粒子的结构不知要容易多少倍。”\n",
      "　　“那也存在宏原子了？三种宏粒子应该是能够组成原子的啊！”\n",
      "　　“是的，应该有宏原子。”\n",
      "　　“我们所捕获到的那个空泡，哦，那个宏电子，是自由电子呢，还是一个宏原子中的电子？如果是后者，那这个宏原子的原子核在哪里呢？”\n",
      "　　“呵呵，您问住我了。不过，原子中的空间很大，如果一个原子有一个剧场大厅那么大，原子核只是大厅中央的一个核桃大小，所以，如果这个宏电子真的属于一个宏原子，那它的原子核距离我们是相当远的。”\n",
      "　　“天啊，还有一个大问题：如果存在宏原子，那一定有宏物质，也有宏世界了？”\n",
      "　　“我们已经在进行宏伟的哲学思考了。”丁仪向提问者微笑着说。\n"
     ]
    }
   ],
   "source": [
    "const result = await contextRetriverChain.invoke({ question: \"原文中，谁提出了宏原子的假设？并详细介绍给我宏原子假设的理论\"})\n",
    "\n",
    "console.log(result)"
   ]
  },
  {
   "cell_type": "code",
   "execution_count": 15,
   "metadata": {},
   "outputs": [],
   "source": [
    "import { ChatPromptTemplate } from \"@langchain/core/prompts\";\n",
    "\n",
    "const TEMPLATE = `\n",
    "你是一个熟读刘慈欣的《球状闪电》的终极原著党，精通根据作品原文详细解释和回答问题，你在回答时会引用作品原文。\n",
    "并且回答时仅根据原文，尽可能回答用户问题，如果原文中没有相关内容，你可以回答“原文中没有相关内容”，\n",
    "\n",
    "以下是原文中跟用户回答相关的内容：\n",
    "{context}\n",
    "\n",
    "现在，你需要基于原文，回答以下问题：\n",
    "{question}`;\n",
    "\n",
    "const prompt = ChatPromptTemplate.fromTemplate(\n",
    "    TEMPLATE\n",
    ");"
   ]
  },
  {
   "cell_type": "code",
   "execution_count": 16,
   "metadata": {},
   "outputs": [],
   "source": [
    "import { ChatOpenAI } from \"@langchain/openai\";\n",
    "\n",
    "const model = new ChatOpenAI();"
   ]
  },
  {
   "cell_type": "code",
   "execution_count": 17,
   "metadata": {},
   "outputs": [],
   "source": [
    "import { StringOutputParser } from \"@langchain/core/output_parsers\";\n",
    "\n",
    "const ragChain = RunnableSequence.from([\n",
    "    {\n",
    "        context: contextRetriverChain,\n",
    "        question: (input) => input.question,\n",
    "    },\n",
    "    prompt,\n",
    "    model,\n",
    "    new StringOutputParser()\n",
    "])"
   ]
  },
  {
   "cell_type": "code",
   "execution_count": 18,
   "metadata": {},
   "outputs": [
    {
     "name": "stdout",
     "output_type": "stream",
     "text": [
      "球状闪电是一种罕见的现象，是一种能在实验室中产生的电磁现象，通常球状闪电会在大气中出现，是一种终极科学之谜，科学家曾经认为所有的目击报告都是幻觉，直到1963年科学界才正式认同这种闪电的存在。球状闪电是一种直径约二十厘米的火球，能穿墙进入建筑物，穿过物体后又消失。在小说《球状闪电》中，作者刘慈欣描述了对球状闪电的多种想象，将其描绘为一个充盈着能量的弯曲的空间，一个似有似无的空泡，一个足球大小的电子。\n"
     ]
    }
   ],
   "source": [
    "const answer = await ragChain.invoke({\n",
    "    question: \"什么是球状闪电\"\n",
    "  });\n",
    "  \n",
    "  console.log(answer);"
   ]
  },
  {
   "cell_type": "code",
   "execution_count": 19,
   "metadata": {},
   "outputs": [
    {
     "name": "stdout",
     "output_type": "stream",
     "text": [
      "在原文中，描述了直升机试验的场景。试验中，一架试验直升机在果园正中坠落，导致几棵果树被压倒，有碗口粗的果树被螺旋桨的桨叶削断。直升机的机体倾斜，驾驶舱的玻璃碎裂，但除此之外机体没有大的损伤。另一架直升机在附近降落，飞行员因为受伤而流血，并用手竖起大拇指示意没有大的问题。在试验中，直升机上装有探杆系统，计划用探杆牵引超导线接触被认为存在空泡的位置。整个场景充满了紧张与期待。\n"
     ]
    }
   ],
   "source": [
    "const answer = await ragChain.invoke({\n",
    "    question: \"详细描述原文中有什么跟直升机相关的场景\"\n",
    "  });\n",
    "\n",
    "console.log(answer);"
   ]
  }
 ],
 "metadata": {
  "kernelspec": {
   "display_name": "Deno",
   "language": "typescript",
   "name": "deno"
  },
  "language_info": {
   "codemirror_mode": "typescript",
   "file_extension": ".ts",
   "mimetype": "text/x.typescript",
   "name": "typescript",
   "nbconvert_exporter": "script",
   "pygments_lexer": "typescript",
   "version": "5.5.2"
  }
 },
 "nbformat": 4,
 "nbformat_minor": 4
}
